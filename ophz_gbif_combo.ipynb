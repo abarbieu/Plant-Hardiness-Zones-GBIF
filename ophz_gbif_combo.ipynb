{
 "cells": [
  {
   "attachments": {},
   "cell_type": "markdown",
   "metadata": {},
   "source": [
    "# Use pygif and Open Plant Hardiness Zones (OPHZ) to add hardiness zone to GBIF data"
   ]
  },
  {
   "cell_type": "code",
   "execution_count": 1,
   "metadata": {},
   "outputs": [],
   "source": [
    "# imports\n",
    "from pygbif import occurrences as occ\n",
    "import pandas as pd\n",
    "import numpy as np\n",
    "import matplotlib.pyplot as plt\n"
   ]
  },
  {
   "cell_type": "code",
   "execution_count": 2,
   "metadata": {},
   "outputs": [],
   "source": [
    "# removes pandas output limit\n",
    "pd.set_option('display.max_rows', None)\n",
    "pd.set_option('display.max_columns', None)"
   ]
  },
  {
   "attachments": {},
   "cell_type": "markdown",
   "metadata": {},
   "source": [
    "# Query the GBIF API (this is where you can edit your query)"
   ]
  },
  {
   "cell_type": "code",
   "execution_count": 3,
   "metadata": {},
   "outputs": [],
   "source": [
    "# Fetches data from GBIF API and stores it in a dataframe, then removes unnecessary columns\n",
    "occdf_full = pd.DataFrame(occ.search(\n",
    "    country='US',\n",
    "    has_coordinate=True,\n",
    "    hasGeospatialIssue = False,\n",
    "    return_type='dataframe',\n",
    "    limit=10000,\n",
    ")['results'])\n",
    "\n",
    "occdf = occdf_full[[\"datasetKey\", \"decimalLatitude\", \"decimalLongitude\", \"scientificName\", \"taxonKey\"]]"
   ]
  },
  {
   "attachments": {},
   "cell_type": "markdown",
   "metadata": {},
   "source": [
    "### Combine OPHZ geometries for each state into one index"
   ]
  },
  {
   "cell_type": "code",
   "execution_count": 4,
   "metadata": {},
   "outputs": [],
   "source": [
    "import geopandas as gpd\n",
    "import os\n",
    "\n",
    "# Get a list of all GeoJSON files in the folder\n",
    "file_list = [f for f in os.listdir('./ophz/geojson/') if f.endswith('.geojson')]\n",
    "\n",
    "# Initialize an empty list to store the GeoDataFrames\n",
    "gdf_list = []\n",
    "\n",
    "# Iterate through the list of files\n",
    "for file in file_list:\n",
    "    # Read in the GeoJSON file\n",
    "    gdf_state = gpd.read_file(os.path.join('./ophz/geojson/', file))\n",
    "    # Append the GeoDataFrame to the list\n",
    "    gdf_list.append(gdf_state)\n",
    "\n",
    "# Concatenate the list of GeoDataFrames into a single GeoDataFrame\n",
    "gdf = pd.concat(gdf_list)\n",
    "\n",
    "# Create a spatial index for the GeoDataFrame\n",
    "sindex = gdf.sindex"
   ]
  },
  {
   "attachments": {},
   "cell_type": "markdown",
   "metadata": {},
   "source": [
    "### Combine OPHZ with GBIF data"
   ]
  },
  {
   "cell_type": "code",
   "execution_count": 5,
   "metadata": {},
   "outputs": [],
   "source": [
    "# supresses shapely warnings\n",
    "import warnings\n",
    "warnings.filterwarnings('ignore')\n",
    "\n",
    "from shapely.geometry import Point\n",
    "\n",
    "# Initialize an empty list to store the matching features\n",
    "matching_features = []\n",
    "\n",
    "# Loops through each occurence in the occurrence dataframe\n",
    "for i in range(len(occdf)):\n",
    "    # Finds potential matches\n",
    "    lon = occdf.iloc[i].decimalLongitude\n",
    "    lat = occdf.iloc[i].decimalLatitude\n",
    "    potential_matches = list(sindex.intersection((lon, lat)))\n",
    "    # Loops through each potential match\n",
    "    for j in potential_matches:\n",
    "        # Checks if the occurence is within the polygon\n",
    "        if gdf.iloc[j].geometry.contains(Point(lon, lat)):\n",
    "            # Combine occurence entry with matching features using pandas.concat\n",
    "            matching_features.append(pd.concat([occdf.iloc[i], gdf.iloc[j][[\"TEMP\", \"ZONE\"]]]))\n",
    "\n",
    "ophz_gbif_df = pd.DataFrame(matching_features)\n",
    "# matching_df"
   ]
  },
  {
   "attachments": {},
   "cell_type": "markdown",
   "metadata": {},
   "source": [
    "# Saves the data to a CSV file (includes datasetKey for easy reupload to GBIF)"
   ]
  },
  {
   "cell_type": "code",
   "execution_count": 6,
   "metadata": {},
   "outputs": [],
   "source": [
    "# ophz_gbif_df.to_csv('ophz_gbif.csv')"
   ]
  },
  {
   "attachments": {},
   "cell_type": "markdown",
   "metadata": {},
   "source": [
    "## Map everything using Folium"
   ]
  },
  {
   "cell_type": "code",
   "execution_count": 7,
   "metadata": {},
   "outputs": [],
   "source": [
    "# Displays results on a map with temp as the color\n",
    "# Overlays it on a map of the US, uses lat and lon to place each occurence\n",
    "import matplotlib.pyplot as plt\n",
    "import matplotlib\n",
    "import folium\n",
    "from folium.plugins import FastMarkerCluster\n",
    "\n",
    "\n",
    "# Maps temp to colors, -40 is pink, +40 is red, 0 is green\n",
    "cmap = plt.cm.get_cmap('RdYlGn')\n",
    "norm = plt.Normalize(vmin=-40, vmax=40)\n",
    "\n",
    "folium_map = folium.Map(location=[38, -97],\n",
    "                        zoom_start=4.4)\n",
    "\n",
    "# These two lines should create FastMarkerClusters\n",
    "FastMarkerCluster(data=list(zip(ophz_gbif_df['decimalLatitude'].values, ophz_gbif_df['decimalLongitude'].values))).add_to(folium_map)\n",
    "folium.LayerControl().add_to(folium_map)\n",
    "\n",
    "for index, row in ophz_gbif_df.iterrows():\n",
    "   # generate the popup message that is shown on click.\n",
    "   popup_text = \"{}<br> Zone: {}<br> Temp: {}\"\n",
    "   popup_text = popup_text.format(\n",
    "                     row[\"scientificName\"],\n",
    "                     row[\"ZONE\"],\n",
    "                     row[\"TEMP\"]\n",
    "                     )\n",
    "   # add marker to the map\n",
    "   folium.CircleMarker(location=(row['decimalLatitude'],\n",
    "                                 row['decimalLongitude']),\n",
    "                     radius= 3,\n",
    "                     color=matplotlib.colors.to_hex(cmap(norm(row['TEMP']))),\n",
    "                     popup=popup_text).add_to(folium_map)\n",
    "\n",
    "# displays map\n",
    "folium_map.save(\"map.html\")"
   ]
  }
 ],
 "metadata": {
  "kernelspec": {
   "display_name": "tf_2.4.0",
   "language": "python",
   "name": "python3"
  },
  "language_info": {
   "codemirror_mode": {
    "name": "ipython",
    "version": 3
   },
   "file_extension": ".py",
   "mimetype": "text/x-python",
   "name": "python",
   "nbconvert_exporter": "python",
   "pygments_lexer": "ipython3",
   "version": "3.8.13"
  },
  "orig_nbformat": 4,
  "vscode": {
   "interpreter": {
    "hash": "5592904bc02381d742d8677a7dee9dfad432ddb320dbe6e668ed13d03d50aa2a"
   }
  }
 },
 "nbformat": 4,
 "nbformat_minor": 2
}
