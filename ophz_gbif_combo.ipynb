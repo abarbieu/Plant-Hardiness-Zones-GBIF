{
 "cells": [
  {
   "attachments": {},
   "cell_type": "markdown",
   "metadata": {},
   "source": [
    "# Use pygif and Open Plant Hardiness Zones (OPHZ) to add hardiness zone to GBIF data"
   ]
  },
  {
   "cell_type": "code",
   "execution_count": 1,
   "metadata": {},
   "outputs": [],
   "source": [
    "# imports\n",
    "from pygbif import occurrences as occ\n",
    "import pandas as pd\n",
    "import numpy as np\n",
    "import matplotlib.pyplot as plt\n"
   ]
  },
  {
   "cell_type": "code",
   "execution_count": 2,
   "metadata": {},
   "outputs": [],
   "source": [
    "# removes pandas output limit\n",
    "pd.set_option('display.max_rows', None)\n",
    "pd.set_option('display.max_columns', None)"
   ]
  },
  {
   "attachments": {},
   "cell_type": "markdown",
   "metadata": {},
   "source": [
    "# Query the GBIF API (this is where you can edit your query)"
   ]
  },
  {
   "cell_type": "code",
   "execution_count": 5,
   "metadata": {},
   "outputs": [],
   "source": [
    "# Creates df list (DO NOT RERUN BETWEEN QUERIES)\n",
    "occdfs_list = []"
   ]
  },
  {
   "cell_type": "code",
   "execution_count": 6,
   "metadata": {},
   "outputs": [],
   "source": [
    "# Max records per search is 300, can be improved using download instead\n",
    "records = 300*100\n",
    "prev_offset = 0 # update on repeated queries to build a dataframe"
   ]
  },
  {
   "cell_type": "code",
   "execution_count": 7,
   "metadata": {},
   "outputs": [
    {
     "ename": "KeyboardInterrupt",
     "evalue": "",
     "output_type": "error",
     "traceback": [
      "\u001b[0;31m---------------------------------------------------------------------------\u001b[0m",
      "\u001b[0;31mKeyboardInterrupt\u001b[0m                         Traceback (most recent call last)",
      "Cell \u001b[0;32mIn [7], line 3\u001b[0m\n\u001b[1;32m      1\u001b[0m \u001b[39m# Fetches data from GBIF API in 300 record chunks and adds each chunk to a list\u001b[39;00m\n\u001b[1;32m      2\u001b[0m \u001b[39mfor\u001b[39;00m offset \u001b[39min\u001b[39;00m \u001b[39mrange\u001b[39m(\u001b[39m0\u001b[39m,records,\u001b[39m300\u001b[39m):\n\u001b[0;32m----> 3\u001b[0m     occdfs_list\u001b[39m.\u001b[39mappend(pd\u001b[39m.\u001b[39mDataFrame(occ\u001b[39m.\u001b[39;49msearch(\n\u001b[1;32m      4\u001b[0m         country\u001b[39m=\u001b[39;49m\u001b[39m'\u001b[39;49m\u001b[39mUS\u001b[39;49m\u001b[39m'\u001b[39;49m,\n\u001b[1;32m      5\u001b[0m         has_coordinate\u001b[39m=\u001b[39;49m\u001b[39mTrue\u001b[39;49;00m,\n\u001b[1;32m      6\u001b[0m         hasGeospatialIssue \u001b[39m=\u001b[39;49m \u001b[39mFalse\u001b[39;49;00m,\n\u001b[1;32m      7\u001b[0m         return_type\u001b[39m=\u001b[39;49m\u001b[39m'\u001b[39;49m\u001b[39mdataframe\u001b[39;49m\u001b[39m'\u001b[39;49m,\n\u001b[1;32m      8\u001b[0m         limit\u001b[39m=\u001b[39;49m\u001b[39m300\u001b[39;49m,\n\u001b[1;32m      9\u001b[0m         offset\u001b[39m=\u001b[39;49mprev_offset\u001b[39m+\u001b[39;49moffset,\n\u001b[1;32m     10\u001b[0m     )[\u001b[39m'\u001b[39m\u001b[39mresults\u001b[39m\u001b[39m'\u001b[39m]))\n",
      "File \u001b[0;32m~/opt/anaconda3/envs/tf_2.4.0/lib/python3.8/site-packages/pygbif/occurrences/search.py:408\u001b[0m, in \u001b[0;36msearch\u001b[0;34m(taxonKey, repatriated, kingdomKey, phylumKey, classKey, orderKey, familyKey, genusKey, subgenusKey, scientificName, country, publishingCountry, hasCoordinate, typeStatus, recordNumber, lastInterpreted, continent, geometry, recordedBy, recordedByID, identifiedByID, basisOfRecord, datasetKey, eventDate, catalogNumber, year, month, decimalLatitude, decimalLongitude, elevation, depth, institutionCode, collectionCode, hasGeospatialIssue, issue, q, spellCheck, mediatype, limit, offset, establishmentMeans, facet, facetMincount, facetMultiselect, **kwargs)\u001b[0m\n\u001b[1;32m    406\u001b[0m     args\u001b[39m.\u001b[39mupdate(xx)\n\u001b[1;32m    407\u001b[0m kwargs \u001b[39m=\u001b[39m {key: kwargs[key] \u001b[39mfor\u001b[39;00m key \u001b[39min\u001b[39;00m kwargs \u001b[39mif\u001b[39;00m key \u001b[39min\u001b[39;00m requests_argset}\n\u001b[0;32m--> 408\u001b[0m out \u001b[39m=\u001b[39m gbif_GET(url, args, \u001b[39m*\u001b[39;49m\u001b[39m*\u001b[39;49mkwargs)\n\u001b[1;32m    409\u001b[0m \u001b[39mreturn\u001b[39;00m out\n",
      "File \u001b[0;32m~/opt/anaconda3/envs/tf_2.4.0/lib/python3.8/site-packages/pygbif/gbifutils.py:33\u001b[0m, in \u001b[0;36mgbif_GET\u001b[0;34m(url, args, **kwargs)\u001b[0m\n\u001b[1;32m     32\u001b[0m \u001b[39mdef\u001b[39;00m \u001b[39mgbif_GET\u001b[39m(url, args, \u001b[39m*\u001b[39m\u001b[39m*\u001b[39mkwargs):\n\u001b[0;32m---> 33\u001b[0m     out \u001b[39m=\u001b[39m requests\u001b[39m.\u001b[39;49mget(url, params\u001b[39m=\u001b[39;49margs, headers\u001b[39m=\u001b[39;49mmake_ua(), \u001b[39m*\u001b[39;49m\u001b[39m*\u001b[39;49mkwargs)\n\u001b[1;32m     34\u001b[0m     out\u001b[39m.\u001b[39mraise_for_status()\n\u001b[1;32m     35\u001b[0m     stopifnot(out\u001b[39m.\u001b[39mheaders[\u001b[39m\"\u001b[39m\u001b[39mcontent-type\u001b[39m\u001b[39m\"\u001b[39m])\n",
      "File \u001b[0;32m~/opt/anaconda3/envs/tf_2.4.0/lib/python3.8/site-packages/requests/api.py:73\u001b[0m, in \u001b[0;36mget\u001b[0;34m(url, params, **kwargs)\u001b[0m\n\u001b[1;32m     62\u001b[0m \u001b[39mdef\u001b[39;00m \u001b[39mget\u001b[39m(url, params\u001b[39m=\u001b[39m\u001b[39mNone\u001b[39;00m, \u001b[39m*\u001b[39m\u001b[39m*\u001b[39mkwargs):\n\u001b[1;32m     63\u001b[0m     \u001b[39mr\u001b[39m\u001b[39m\"\"\"Sends a GET request.\u001b[39;00m\n\u001b[1;32m     64\u001b[0m \n\u001b[1;32m     65\u001b[0m \u001b[39m    :param url: URL for the new :class:`Request` object.\u001b[39;00m\n\u001b[0;32m   (...)\u001b[0m\n\u001b[1;32m     70\u001b[0m \u001b[39m    :rtype: requests.Response\u001b[39;00m\n\u001b[1;32m     71\u001b[0m \u001b[39m    \"\"\"\u001b[39;00m\n\u001b[0;32m---> 73\u001b[0m     \u001b[39mreturn\u001b[39;00m request(\u001b[39m\"\u001b[39;49m\u001b[39mget\u001b[39;49m\u001b[39m\"\u001b[39;49m, url, params\u001b[39m=\u001b[39;49mparams, \u001b[39m*\u001b[39;49m\u001b[39m*\u001b[39;49mkwargs)\n",
      "File \u001b[0;32m~/opt/anaconda3/envs/tf_2.4.0/lib/python3.8/site-packages/requests/api.py:59\u001b[0m, in \u001b[0;36mrequest\u001b[0;34m(method, url, **kwargs)\u001b[0m\n\u001b[1;32m     55\u001b[0m \u001b[39m# By using the 'with' statement we are sure the session is closed, thus we\u001b[39;00m\n\u001b[1;32m     56\u001b[0m \u001b[39m# avoid leaving sockets open which can trigger a ResourceWarning in some\u001b[39;00m\n\u001b[1;32m     57\u001b[0m \u001b[39m# cases, and look like a memory leak in others.\u001b[39;00m\n\u001b[1;32m     58\u001b[0m \u001b[39mwith\u001b[39;00m sessions\u001b[39m.\u001b[39mSession() \u001b[39mas\u001b[39;00m session:\n\u001b[0;32m---> 59\u001b[0m     \u001b[39mreturn\u001b[39;00m session\u001b[39m.\u001b[39;49mrequest(method\u001b[39m=\u001b[39;49mmethod, url\u001b[39m=\u001b[39;49murl, \u001b[39m*\u001b[39;49m\u001b[39m*\u001b[39;49mkwargs)\n",
      "File \u001b[0;32m~/opt/anaconda3/envs/tf_2.4.0/lib/python3.8/site-packages/requests/sessions.py:587\u001b[0m, in \u001b[0;36mSession.request\u001b[0;34m(self, method, url, params, data, headers, cookies, files, auth, timeout, allow_redirects, proxies, hooks, stream, verify, cert, json)\u001b[0m\n\u001b[1;32m    582\u001b[0m send_kwargs \u001b[39m=\u001b[39m {\n\u001b[1;32m    583\u001b[0m     \u001b[39m\"\u001b[39m\u001b[39mtimeout\u001b[39m\u001b[39m\"\u001b[39m: timeout,\n\u001b[1;32m    584\u001b[0m     \u001b[39m\"\u001b[39m\u001b[39mallow_redirects\u001b[39m\u001b[39m\"\u001b[39m: allow_redirects,\n\u001b[1;32m    585\u001b[0m }\n\u001b[1;32m    586\u001b[0m send_kwargs\u001b[39m.\u001b[39mupdate(settings)\n\u001b[0;32m--> 587\u001b[0m resp \u001b[39m=\u001b[39m \u001b[39mself\u001b[39;49m\u001b[39m.\u001b[39;49msend(prep, \u001b[39m*\u001b[39;49m\u001b[39m*\u001b[39;49msend_kwargs)\n\u001b[1;32m    589\u001b[0m \u001b[39mreturn\u001b[39;00m resp\n",
      "File \u001b[0;32m~/opt/anaconda3/envs/tf_2.4.0/lib/python3.8/site-packages/requests/sessions.py:745\u001b[0m, in \u001b[0;36mSession.send\u001b[0;34m(self, request, **kwargs)\u001b[0m\n\u001b[1;32m    742\u001b[0m         \u001b[39mpass\u001b[39;00m\n\u001b[1;32m    744\u001b[0m \u001b[39mif\u001b[39;00m \u001b[39mnot\u001b[39;00m stream:\n\u001b[0;32m--> 745\u001b[0m     r\u001b[39m.\u001b[39;49mcontent\n\u001b[1;32m    747\u001b[0m \u001b[39mreturn\u001b[39;00m r\n",
      "File \u001b[0;32m~/opt/anaconda3/envs/tf_2.4.0/lib/python3.8/site-packages/requests/models.py:899\u001b[0m, in \u001b[0;36mResponse.content\u001b[0;34m(self)\u001b[0m\n\u001b[1;32m    897\u001b[0m         \u001b[39mself\u001b[39m\u001b[39m.\u001b[39m_content \u001b[39m=\u001b[39m \u001b[39mNone\u001b[39;00m\n\u001b[1;32m    898\u001b[0m     \u001b[39melse\u001b[39;00m:\n\u001b[0;32m--> 899\u001b[0m         \u001b[39mself\u001b[39m\u001b[39m.\u001b[39m_content \u001b[39m=\u001b[39m \u001b[39mb\u001b[39;49m\u001b[39m\"\u001b[39;49m\u001b[39m\"\u001b[39;49m\u001b[39m.\u001b[39;49mjoin(\u001b[39mself\u001b[39;49m\u001b[39m.\u001b[39;49miter_content(CONTENT_CHUNK_SIZE)) \u001b[39mor\u001b[39;00m \u001b[39mb\u001b[39m\u001b[39m\"\u001b[39m\u001b[39m\"\u001b[39m\n\u001b[1;32m    901\u001b[0m \u001b[39mself\u001b[39m\u001b[39m.\u001b[39m_content_consumed \u001b[39m=\u001b[39m \u001b[39mTrue\u001b[39;00m\n\u001b[1;32m    902\u001b[0m \u001b[39m# don't need to release the connection; that's been handled by urllib3\u001b[39;00m\n\u001b[1;32m    903\u001b[0m \u001b[39m# since we exhausted the data.\u001b[39;00m\n",
      "File \u001b[0;32m~/opt/anaconda3/envs/tf_2.4.0/lib/python3.8/site-packages/requests/models.py:816\u001b[0m, in \u001b[0;36mResponse.iter_content.<locals>.generate\u001b[0;34m()\u001b[0m\n\u001b[1;32m    814\u001b[0m \u001b[39mif\u001b[39;00m \u001b[39mhasattr\u001b[39m(\u001b[39mself\u001b[39m\u001b[39m.\u001b[39mraw, \u001b[39m\"\u001b[39m\u001b[39mstream\u001b[39m\u001b[39m\"\u001b[39m):\n\u001b[1;32m    815\u001b[0m     \u001b[39mtry\u001b[39;00m:\n\u001b[0;32m--> 816\u001b[0m         \u001b[39myield from\u001b[39;00m \u001b[39mself\u001b[39m\u001b[39m.\u001b[39mraw\u001b[39m.\u001b[39mstream(chunk_size, decode_content\u001b[39m=\u001b[39m\u001b[39mTrue\u001b[39;00m)\n\u001b[1;32m    817\u001b[0m     \u001b[39mexcept\u001b[39;00m ProtocolError \u001b[39mas\u001b[39;00m e:\n\u001b[1;32m    818\u001b[0m         \u001b[39mraise\u001b[39;00m ChunkedEncodingError(e)\n",
      "File \u001b[0;32m~/opt/anaconda3/envs/tf_2.4.0/lib/python3.8/site-packages/urllib3/response.py:623\u001b[0m, in \u001b[0;36mHTTPResponse.stream\u001b[0;34m(self, amt, decode_content)\u001b[0m\n\u001b[1;32m    607\u001b[0m \u001b[39m\"\"\"\u001b[39;00m\n\u001b[1;32m    608\u001b[0m \u001b[39mA generator wrapper for the read() method. A call will block until\u001b[39;00m\n\u001b[1;32m    609\u001b[0m \u001b[39m``amt`` bytes have been read from the connection or until the\u001b[39;00m\n\u001b[0;32m   (...)\u001b[0m\n\u001b[1;32m    620\u001b[0m \u001b[39m    'content-encoding' header.\u001b[39;00m\n\u001b[1;32m    621\u001b[0m \u001b[39m\"\"\"\u001b[39;00m\n\u001b[1;32m    622\u001b[0m \u001b[39mif\u001b[39;00m \u001b[39mself\u001b[39m\u001b[39m.\u001b[39mchunked \u001b[39mand\u001b[39;00m \u001b[39mself\u001b[39m\u001b[39m.\u001b[39msupports_chunked_reads():\n\u001b[0;32m--> 623\u001b[0m     \u001b[39mfor\u001b[39;00m line \u001b[39min\u001b[39;00m \u001b[39mself\u001b[39m\u001b[39m.\u001b[39mread_chunked(amt, decode_content\u001b[39m=\u001b[39mdecode_content):\n\u001b[1;32m    624\u001b[0m         \u001b[39myield\u001b[39;00m line\n\u001b[1;32m    625\u001b[0m \u001b[39melse\u001b[39;00m:\n",
      "File \u001b[0;32m~/opt/anaconda3/envs/tf_2.4.0/lib/python3.8/site-packages/urllib3/response.py:818\u001b[0m, in \u001b[0;36mHTTPResponse.read_chunked\u001b[0;34m(self, amt, decode_content)\u001b[0m\n\u001b[1;32m    816\u001b[0m \u001b[39mif\u001b[39;00m \u001b[39mself\u001b[39m\u001b[39m.\u001b[39mchunk_left \u001b[39m==\u001b[39m \u001b[39m0\u001b[39m:\n\u001b[1;32m    817\u001b[0m     \u001b[39mbreak\u001b[39;00m\n\u001b[0;32m--> 818\u001b[0m chunk \u001b[39m=\u001b[39m \u001b[39mself\u001b[39;49m\u001b[39m.\u001b[39;49m_handle_chunk(amt)\n\u001b[1;32m    819\u001b[0m decoded \u001b[39m=\u001b[39m \u001b[39mself\u001b[39m\u001b[39m.\u001b[39m_decode(\n\u001b[1;32m    820\u001b[0m     chunk, decode_content\u001b[39m=\u001b[39mdecode_content, flush_decoder\u001b[39m=\u001b[39m\u001b[39mFalse\u001b[39;00m\n\u001b[1;32m    821\u001b[0m )\n\u001b[1;32m    822\u001b[0m \u001b[39mif\u001b[39;00m decoded:\n",
      "File \u001b[0;32m~/opt/anaconda3/envs/tf_2.4.0/lib/python3.8/site-packages/urllib3/response.py:771\u001b[0m, in \u001b[0;36mHTTPResponse._handle_chunk\u001b[0;34m(self, amt)\u001b[0m\n\u001b[1;32m    769\u001b[0m     returned_chunk \u001b[39m=\u001b[39m value\n\u001b[1;32m    770\u001b[0m \u001b[39melse\u001b[39;00m:  \u001b[39m# amt > self.chunk_left\u001b[39;00m\n\u001b[0;32m--> 771\u001b[0m     returned_chunk \u001b[39m=\u001b[39m \u001b[39mself\u001b[39;49m\u001b[39m.\u001b[39;49m_fp\u001b[39m.\u001b[39;49m_safe_read(\u001b[39mself\u001b[39;49m\u001b[39m.\u001b[39;49mchunk_left)\n\u001b[1;32m    772\u001b[0m     \u001b[39mself\u001b[39m\u001b[39m.\u001b[39m_fp\u001b[39m.\u001b[39m_safe_read(\u001b[39m2\u001b[39m)  \u001b[39m# Toss the CRLF at the end of the chunk.\u001b[39;00m\n\u001b[1;32m    773\u001b[0m     \u001b[39mself\u001b[39m\u001b[39m.\u001b[39mchunk_left \u001b[39m=\u001b[39m \u001b[39mNone\u001b[39;00m\n",
      "File \u001b[0;32m~/opt/anaconda3/envs/tf_2.4.0/lib/python3.8/http/client.py:613\u001b[0m, in \u001b[0;36mHTTPResponse._safe_read\u001b[0;34m(self, amt)\u001b[0m\n\u001b[1;32m    606\u001b[0m \u001b[39mdef\u001b[39;00m \u001b[39m_safe_read\u001b[39m(\u001b[39mself\u001b[39m, amt):\n\u001b[1;32m    607\u001b[0m     \u001b[39m\"\"\"Read the number of bytes requested.\u001b[39;00m\n\u001b[1;32m    608\u001b[0m \n\u001b[1;32m    609\u001b[0m \u001b[39m    This function should be used when <amt> bytes \"should\" be present for\u001b[39;00m\n\u001b[1;32m    610\u001b[0m \u001b[39m    reading. If the bytes are truly not available (due to EOF), then the\u001b[39;00m\n\u001b[1;32m    611\u001b[0m \u001b[39m    IncompleteRead exception can be used to detect the problem.\u001b[39;00m\n\u001b[1;32m    612\u001b[0m \u001b[39m    \"\"\"\u001b[39;00m\n\u001b[0;32m--> 613\u001b[0m     data \u001b[39m=\u001b[39m \u001b[39mself\u001b[39;49m\u001b[39m.\u001b[39;49mfp\u001b[39m.\u001b[39;49mread(amt)\n\u001b[1;32m    614\u001b[0m     \u001b[39mif\u001b[39;00m \u001b[39mlen\u001b[39m(data) \u001b[39m<\u001b[39m amt:\n\u001b[1;32m    615\u001b[0m         \u001b[39mraise\u001b[39;00m IncompleteRead(data, amt\u001b[39m-\u001b[39m\u001b[39mlen\u001b[39m(data))\n",
      "File \u001b[0;32m~/opt/anaconda3/envs/tf_2.4.0/lib/python3.8/socket.py:669\u001b[0m, in \u001b[0;36mSocketIO.readinto\u001b[0;34m(self, b)\u001b[0m\n\u001b[1;32m    667\u001b[0m \u001b[39mwhile\u001b[39;00m \u001b[39mTrue\u001b[39;00m:\n\u001b[1;32m    668\u001b[0m     \u001b[39mtry\u001b[39;00m:\n\u001b[0;32m--> 669\u001b[0m         \u001b[39mreturn\u001b[39;00m \u001b[39mself\u001b[39;49m\u001b[39m.\u001b[39;49m_sock\u001b[39m.\u001b[39;49mrecv_into(b)\n\u001b[1;32m    670\u001b[0m     \u001b[39mexcept\u001b[39;00m timeout:\n\u001b[1;32m    671\u001b[0m         \u001b[39mself\u001b[39m\u001b[39m.\u001b[39m_timeout_occurred \u001b[39m=\u001b[39m \u001b[39mTrue\u001b[39;00m\n",
      "File \u001b[0;32m~/opt/anaconda3/envs/tf_2.4.0/lib/python3.8/ssl.py:1241\u001b[0m, in \u001b[0;36mSSLSocket.recv_into\u001b[0;34m(self, buffer, nbytes, flags)\u001b[0m\n\u001b[1;32m   1237\u001b[0m     \u001b[39mif\u001b[39;00m flags \u001b[39m!=\u001b[39m \u001b[39m0\u001b[39m:\n\u001b[1;32m   1238\u001b[0m         \u001b[39mraise\u001b[39;00m \u001b[39mValueError\u001b[39;00m(\n\u001b[1;32m   1239\u001b[0m           \u001b[39m\"\u001b[39m\u001b[39mnon-zero flags not allowed in calls to recv_into() on \u001b[39m\u001b[39m%s\u001b[39;00m\u001b[39m\"\u001b[39m \u001b[39m%\u001b[39m\n\u001b[1;32m   1240\u001b[0m           \u001b[39mself\u001b[39m\u001b[39m.\u001b[39m\u001b[39m__class__\u001b[39m)\n\u001b[0;32m-> 1241\u001b[0m     \u001b[39mreturn\u001b[39;00m \u001b[39mself\u001b[39;49m\u001b[39m.\u001b[39;49mread(nbytes, buffer)\n\u001b[1;32m   1242\u001b[0m \u001b[39melse\u001b[39;00m:\n\u001b[1;32m   1243\u001b[0m     \u001b[39mreturn\u001b[39;00m \u001b[39msuper\u001b[39m()\u001b[39m.\u001b[39mrecv_into(buffer, nbytes, flags)\n",
      "File \u001b[0;32m~/opt/anaconda3/envs/tf_2.4.0/lib/python3.8/ssl.py:1099\u001b[0m, in \u001b[0;36mSSLSocket.read\u001b[0;34m(self, len, buffer)\u001b[0m\n\u001b[1;32m   1097\u001b[0m \u001b[39mtry\u001b[39;00m:\n\u001b[1;32m   1098\u001b[0m     \u001b[39mif\u001b[39;00m buffer \u001b[39mis\u001b[39;00m \u001b[39mnot\u001b[39;00m \u001b[39mNone\u001b[39;00m:\n\u001b[0;32m-> 1099\u001b[0m         \u001b[39mreturn\u001b[39;00m \u001b[39mself\u001b[39;49m\u001b[39m.\u001b[39;49m_sslobj\u001b[39m.\u001b[39;49mread(\u001b[39mlen\u001b[39;49m, buffer)\n\u001b[1;32m   1100\u001b[0m     \u001b[39melse\u001b[39;00m:\n\u001b[1;32m   1101\u001b[0m         \u001b[39mreturn\u001b[39;00m \u001b[39mself\u001b[39m\u001b[39m.\u001b[39m_sslobj\u001b[39m.\u001b[39mread(\u001b[39mlen\u001b[39m)\n",
      "\u001b[0;31mKeyboardInterrupt\u001b[0m: "
     ]
    }
   ],
   "source": [
    "# Fetches data from GBIF API in 300 record chunks and adds each chunk to a list\n",
    "for offset in range(0,records,300):\n",
    "    occdfs_list.append(pd.DataFrame(occ.search(\n",
    "        country='US',\n",
    "        has_coordinate=True,\n",
    "        hasGeospatialIssue = False,\n",
    "        return_type='dataframe',\n",
    "        limit=300,\n",
    "        offset=prev_offset+offset,\n",
    "    )['results']))"
   ]
  },
  {
   "cell_type": "code",
   "execution_count": 9,
   "metadata": {},
   "outputs": [],
   "source": [
    "# Concats list of dataframes into one dataframe\n",
    "occdf_full = pd.concat(occdfs_list)\n",
    "\n",
    "# Creates new dataframe with only the columns we want\n",
    "occdf = occdf_full[[\"datasetKey\", \"decimalLatitude\", \"decimalLongitude\", \"scientificName\", \"taxonKey\"]]"
   ]
  },
  {
   "attachments": {},
   "cell_type": "markdown",
   "metadata": {},
   "source": [
    "### Combine OPHZ geometries for each state into one index"
   ]
  },
  {
   "cell_type": "code",
   "execution_count": 10,
   "metadata": {},
   "outputs": [],
   "source": [
    "import geopandas as gpd\n",
    "import os\n",
    "\n",
    "# Get a list of all GeoJSON files in the folder\n",
    "file_list = [f for f in os.listdir('./ophz/geojson/') if f.endswith('.geojson')]\n",
    "\n",
    "# Initialize an empty list to store the GeoDataFrames\n",
    "gdf_list = []\n",
    "\n",
    "# Iterate through the list of files\n",
    "for file in file_list:\n",
    "    # Read in the GeoJSON file\n",
    "    gdf_state = gpd.read_file(os.path.join('./ophz/geojson/', file))\n",
    "    # Append the GeoDataFrame to the list\n",
    "    gdf_list.append(gdf_state)\n",
    "\n",
    "# Concatenate the list of GeoDataFrames into a single GeoDataFrame\n",
    "gdf = pd.concat(gdf_list)\n",
    "\n",
    "# Create a spatial index for the GeoDataFrame\n",
    "sindex = gdf.sindex"
   ]
  },
  {
   "attachments": {},
   "cell_type": "markdown",
   "metadata": {},
   "source": [
    "### Combine OPHZ with GBIF data"
   ]
  },
  {
   "cell_type": "code",
   "execution_count": 12,
   "metadata": {},
   "outputs": [
    {
     "name": "stderr",
     "output_type": "stream",
     "text": [
      "ERROR:TopologyException: side location conflict at -115.18578421052631 47.129247368421048. This can occur if the input geometry is invalid.\n",
      "INFO:Ring Self-intersection at or near point -115.88209999999999 48.701999999999998\n",
      "ERROR:TopologyException: side location conflict at -115.18578421052631 47.129247368421048. This can occur if the input geometry is invalid.\n",
      "INFO:Ring Self-intersection at or near point -115.88209999999999 48.701999999999998\n",
      "ERROR:TopologyException: side location conflict at -115.18578421052631 47.129247368421048. This can occur if the input geometry is invalid.\n",
      "INFO:Ring Self-intersection at or near point -115.88209999999999 48.701999999999998\n",
      "ERROR:TopologyException: side location conflict at -115.18578421052631 47.129247368421048. This can occur if the input geometry is invalid.\n",
      "INFO:Ring Self-intersection at or near point -115.88209999999999 48.701999999999998\n",
      "ERROR:TopologyException: side location conflict at -115.18578421052631 47.129247368421048. This can occur if the input geometry is invalid.\n",
      "INFO:Ring Self-intersection at or near point -115.88209999999999 48.701999999999998\n",
      "ERROR:TopologyException: side location conflict at -115.18578421052631 47.129247368421048. This can occur if the input geometry is invalid.\n",
      "INFO:Ring Self-intersection at or near point -115.88209999999999 48.701999999999998\n",
      "ERROR:TopologyException: side location conflict at -115.18578421052631 47.129247368421048. This can occur if the input geometry is invalid.\n",
      "INFO:Ring Self-intersection at or near point -115.88209999999999 48.701999999999998\n",
      "ERROR:TopologyException: side location conflict at -115.18578421052631 47.129247368421048. This can occur if the input geometry is invalid.\n",
      "INFO:Ring Self-intersection at or near point -115.88209999999999 48.701999999999998\n",
      "ERROR:TopologyException: side location conflict at -115.18578421052631 47.129247368421048. This can occur if the input geometry is invalid.\n",
      "INFO:Ring Self-intersection at or near point -115.88209999999999 48.701999999999998\n",
      "ERROR:TopologyException: side location conflict at -115.18578421052631 47.129247368421048. This can occur if the input geometry is invalid.\n",
      "INFO:Ring Self-intersection at or near point -115.88209999999999 48.701999999999998\n",
      "ERROR:TopologyException: side location conflict at -115.18578421052631 47.129247368421048. This can occur if the input geometry is invalid.\n",
      "INFO:Ring Self-intersection at or near point -115.88209999999999 48.701999999999998\n",
      "ERROR:TopologyException: side location conflict at -115.18578421052631 47.129247368421048. This can occur if the input geometry is invalid.\n",
      "INFO:Ring Self-intersection at or near point -115.88209999999999 48.701999999999998\n",
      "ERROR:TopologyException: side location conflict at -115.18578421052631 47.129247368421048. This can occur if the input geometry is invalid.\n",
      "INFO:Ring Self-intersection at or near point -115.88209999999999 48.701999999999998\n",
      "ERROR:TopologyException: side location conflict at -115.18578421052631 47.129247368421048. This can occur if the input geometry is invalid.\n",
      "INFO:Ring Self-intersection at or near point -115.88209999999999 48.701999999999998\n",
      "ERROR:TopologyException: side location conflict at -115.18578421052631 47.129247368421048. This can occur if the input geometry is invalid.\n",
      "INFO:Ring Self-intersection at or near point -115.88209999999999 48.701999999999998\n",
      "ERROR:TopologyException: side location conflict at -115.18578421052631 47.129247368421048. This can occur if the input geometry is invalid.\n",
      "INFO:Ring Self-intersection at or near point -115.88209999999999 48.701999999999998\n",
      "ERROR:TopologyException: side location conflict at -115.18578421052631 47.129247368421048. This can occur if the input geometry is invalid.\n",
      "INFO:Ring Self-intersection at or near point -115.88209999999999 48.701999999999998\n",
      "ERROR:TopologyException: side location conflict at -115.18578421052631 47.129247368421048. This can occur if the input geometry is invalid.\n",
      "INFO:Ring Self-intersection at or near point -115.88209999999999 48.701999999999998\n",
      "ERROR:TopologyException: side location conflict at -115.18578421052631 47.129247368421048. This can occur if the input geometry is invalid.\n",
      "INFO:Ring Self-intersection at or near point -115.88209999999999 48.701999999999998\n",
      "ERROR:TopologyException: side location conflict at -115.18578421052631 47.129247368421048. This can occur if the input geometry is invalid.\n",
      "INFO:Ring Self-intersection at or near point -115.88209999999999 48.701999999999998\n",
      "ERROR:TopologyException: side location conflict at -115.18578421052631 47.129247368421048. This can occur if the input geometry is invalid.\n",
      "INFO:Ring Self-intersection at or near point -115.88209999999999 48.701999999999998\n",
      "ERROR:TopologyException: side location conflict at -115.18578421052631 47.129247368421048. This can occur if the input geometry is invalid.\n",
      "INFO:Ring Self-intersection at or near point -115.88209999999999 48.701999999999998\n"
     ]
    }
   ],
   "source": [
    "# supresses shapely warnings\n",
    "import warnings\n",
    "warnings.filterwarnings('ignore')\n",
    "\n",
    "from shapely.geometry import Point\n",
    "\n",
    "# Initialize an empty list to store the matching features\n",
    "matching_features = []\n",
    "\n",
    "# Loops through each occurence in the occurrence dataframe\n",
    "for i in range(len(occdf)):\n",
    "    # Finds potential matches\n",
    "    lon = occdf.iloc[i].decimalLongitude\n",
    "    lat = occdf.iloc[i].decimalLatitude\n",
    "    potential_matches = list(sindex.intersection((lon, lat)))\n",
    "    # Loops through each potential match\n",
    "    for j in potential_matches:\n",
    "        # Checks if the occurence is within the polygon\n",
    "        try:\n",
    "            if gdf.iloc[j].geometry.contains(Point(lon, lat)):\n",
    "                # Combine occurence entry with matching features using pandas.concat\n",
    "                matching_features.append(pd.concat([occdf.iloc[i], gdf.iloc[j][[\"TEMP\", \"ZONE\"]]]))\n",
    "        except:\n",
    "            pass\n",
    "        \n",
    "\n",
    "ophz_gbif_df = pd.DataFrame(matching_features)\n",
    "# matching_df"
   ]
  },
  {
   "attachments": {},
   "cell_type": "markdown",
   "metadata": {},
   "source": [
    "# Saves the data to a CSV file (includes datasetKey for easy reupload to GBIF)"
   ]
  },
  {
   "cell_type": "code",
   "execution_count": 13,
   "metadata": {},
   "outputs": [],
   "source": [
    "ophz_gbif_df.to_csv('ophz_gbif.csv')"
   ]
  },
  {
   "attachments": {},
   "cell_type": "markdown",
   "metadata": {},
   "source": [
    "## Map everything using Folium"
   ]
  },
  {
   "cell_type": "code",
   "execution_count": 14,
   "metadata": {},
   "outputs": [],
   "source": [
    "# Displays results on a map with temp as the color\n",
    "# Overlays it on a map of the US, uses lat and lon to place each occurence\n",
    "import matplotlib.pyplot as plt\n",
    "import matplotlib\n",
    "import folium\n",
    "from folium.plugins import FastMarkerCluster\n",
    "\n",
    "\n",
    "# Maps temp to colors, -40 is pink, +40 is red, 0 is green\n",
    "cmap = plt.cm.get_cmap('RdYlGn')\n",
    "norm = plt.Normalize(vmin=-40, vmax=40)\n",
    "\n",
    "folium_map = folium.Map(location=[38, -97],\n",
    "                        zoom_start=4.4)\n",
    "\n",
    "# These two lines should create FastMarkerClusters\n",
    "FastMarkerCluster(data=list(zip(ophz_gbif_df['decimalLatitude'].values, ophz_gbif_df['decimalLongitude'].values))).add_to(folium_map)\n",
    "folium.LayerControl().add_to(folium_map)\n",
    "\n",
    "for index, row in ophz_gbif_df.iterrows():\n",
    "   # generate the popup message that is shown on click.\n",
    "   popup_text = \"{}<br> Zone: {}<br> Temp: {}\"\n",
    "   popup_text = popup_text.format(\n",
    "                     row[\"scientificName\"],\n",
    "                     row[\"ZONE\"],\n",
    "                     row[\"TEMP\"]\n",
    "                     )\n",
    "   # add marker to the map\n",
    "   folium.CircleMarker(location=(row['decimalLatitude'],\n",
    "                                 row['decimalLongitude']),\n",
    "                     radius= 3,\n",
    "                     color=matplotlib.colors.to_hex(cmap(norm(row['TEMP']))),\n",
    "                     popup=popup_text).add_to(folium_map)\n",
    "\n",
    "# displays map\n",
    "folium_map.save(\"map.html\")"
   ]
  }
 ],
 "metadata": {
  "kernelspec": {
   "display_name": "tf_2.4.0",
   "language": "python",
   "name": "python3"
  },
  "language_info": {
   "codemirror_mode": {
    "name": "ipython",
    "version": 3
   },
   "file_extension": ".py",
   "mimetype": "text/x-python",
   "name": "python",
   "nbconvert_exporter": "python",
   "pygments_lexer": "ipython3",
   "version": "3.8.13"
  },
  "orig_nbformat": 4,
  "vscode": {
   "interpreter": {
    "hash": "5592904bc02381d742d8677a7dee9dfad432ddb320dbe6e668ed13d03d50aa2a"
   }
  }
 },
 "nbformat": 4,
 "nbformat_minor": 2
}
